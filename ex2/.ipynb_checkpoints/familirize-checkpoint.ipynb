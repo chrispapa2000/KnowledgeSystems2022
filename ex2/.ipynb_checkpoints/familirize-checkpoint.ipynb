{
 "cells": [
  {
   "cell_type": "code",
   "execution_count": null,
   "metadata": {},
   "outputs": [],
   "source": [
    "from rdflib import Graph, Literal, URIRef, Namespace,XSD\n",
    "\n",
    "ns1 = Namespace('http://example.org/ns/')\n",
    "ns2 = Namespace('http://example.org/props/')\n",
    "rdfs = Namespace('http://www.w3.org/2000/01/rdf-schema#')\n",
    "rdf = Namespace('http://www.w3.org/1999/02/22-rdf-syntax-ns#')"
   ]
  },
  {
   "cell_type": "code",
   "execution_count": 5,
   "metadata": {},
   "outputs": [
    {
     "name": "stdout",
     "output_type": "stream",
     "text": [
      "http://example.org/props/hasEmotion\n",
      "http://example.org/props/hasGenre\n",
      "http://example.org/props/hasDateOfBirth\n",
      "http://example.org/props/hasComposer\n",
      "http://example.org/props/hasDateOfDeath\n",
      "http://example.org/props/hasPlace\n",
      "http://example.org/props/hasDuration\n",
      "http://example.org/props/hasTitle\n",
      "http://example.org/props/hasBiography\n",
      "http://example.org/props/hasYear\n",
      "http://example.org/props/hasInstrument\n",
      "http://example.org/props/hasPublisher\n"
     ]
    }
   ],
   "source": [
    "g = Graph()\n",
    "g.parse('songs.nt', format='nt')\n",
    "\n",
    "for pre in set(g.predicates()):\n",
    "    print(pre.toPython().replace(\"http://example.org/props/\", \"\"))\n",
    "\n",
    "ans = g.query(\"\"\"\n",
    "        PREFIX exp: <http://example.org/props/>\n",
    "        PREFIX ex: <http://example.org/ns/>\n",
    "        PREFIX rdf: <http://www.w3.org/1999/02/22-rdf-syntax-ns#>\n",
    "        PREFIX rdfs: <http://www.w3.org/2000/01/rdf-schema#>\n",
    "\n",
    "        SELECT DISTINCT ?song ?genre\n",
    "        WHERE {\n",
    "            ?song exp:hasGenre ?genre .          \n",
    "        }\"\"\")\n",
    "# for item in ans:\n",
    "#     print(item[0])"
   ]
  },
  {
   "cell_type": "code",
   "execution_count": null,
   "metadata": {},
   "outputs": [],
   "source": []
  }
 ],
 "metadata": {
  "kernelspec": {
   "display_name": "Python 3",
   "language": "python",
   "name": "python3"
  },
  "language_info": {
   "codemirror_mode": {
    "name": "ipython",
    "version": 3
   },
   "file_extension": ".py",
   "mimetype": "text/x-python",
   "name": "python",
   "nbconvert_exporter": "python",
   "pygments_lexer": "ipython3",
   "version": "3.8.10"
  }
 },
 "nbformat": 4,
 "nbformat_minor": 4
}
